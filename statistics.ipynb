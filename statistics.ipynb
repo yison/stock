{
 "cells": [
  {
   "cell_type": "code",
   "execution_count": 5,
   "metadata": {},
   "outputs": [
    {
     "name": "stdout",
     "output_type": "stream",
     "text": [
      "/home/cloud001/ly/mygithub/stock/data/history/day\n",
      "3473\n"
     ]
    }
   ],
   "source": [
    "import pandas as pd\n",
    "import numpy as np\n",
    "import os\n",
    "from os import listdir\n",
    "from os.path import join, isfile\n",
    "\n",
    "root_path = os.getcwd()\n",
    "hist_day_sub_path = \"data/history/day\"\n",
    "hist_day_path = join(root_path, hist_day_sub_path)\n",
    "print (hist_day_path)\n",
    "day_stock_file_list = [ join(hist_day_path,f) for f in listdir(hist_day_path) if isfile(join(hist_day_path, f)) ]\n",
    "# print (day_stock_file_list)\n",
    "print (len(day_stock_file_list))\n",
    "\n"
   ]
  },
  {
   "cell_type": "code",
   "execution_count": null,
   "metadata": {},
   "outputs": [],
   "source": []
  }
 ],
 "metadata": {
  "kernelspec": {
   "display_name": "Python 3",
   "language": "python",
   "name": "python3"
  },
  "language_info": {
   "codemirror_mode": {
    "name": "ipython",
    "version": 3
   },
   "file_extension": ".py",
   "mimetype": "text/x-python",
   "name": "python",
   "nbconvert_exporter": "python",
   "pygments_lexer": "ipython3",
   "version": "3.5.2"
  }
 },
 "nbformat": 4,
 "nbformat_minor": 2
}
