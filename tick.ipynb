{
 "cells": [
  {
   "cell_type": "code",
   "execution_count": null,
   "metadata": {},
   "outputs": [],
   "source": [
    "import tushare as ts\n",
    "import pandas as pd\n",
    "import numpy as np\n",
    "import matplotlib.pyplot as plt\n",
    "import datetime\n",
    "\n",
    "## set \n",
    "np.set_printoptions(threshold='nan')\n",
    "\n",
    "stocks = [\n",
    "    '601006',\n",
    "    '600919',\n",
    "    '601328',\n",
    "    '600027',\n",
    "    '600115',\n",
    "    '603260',\n",
    "    '600023',\n",
    "    '600521',\n",
    "    '600332',\n",
    "    '603260',\n",
    "    '601333'\n",
    "    '01333'\n",
    "]\n",
    "\n",
    "df_raw = pd.read_csv(\"data/trading/history/day/tracking_trading_day.csv\")\n",
    "\n",
    "df = df_raw\n",
    "\n",
    "df.sort_values(by=['total_vol_type_amount'], ascending=False)\n",
    "df.date = pd.to_datetime(df.date)\n",
    "\n",
    "df_buy = df[df['type'] == 'buy']\n",
    "df_sell = df[df['type'] == 'sell']\n",
    "\n",
    "print (\"------------------\")\n",
    "print (\"today:\")\n",
    "date = datetime.date.today().strftime(\"%Y-%m-%d\")\n",
    "date = \"2018-04-09\"\n",
    "print (df[df.date == date])\n",
    "\n",
    "print (\"list history with today's stock codes:\")\n",
    "print (df[df.code.isin(df[df.date == date]['code'])].sort_values(['code', 'date','type_pct'], ascending=[True, True, False]))\n",
    "_df = df.groupby(['code', 'type']).agg('size')\n",
    "df_buy_sell = df[df.code.isin(_df.unstack().dropna().index)].sort_values(['code', 'date', 'type_pct'], ascending=[True, True, False])\n",
    "print (\"list buy&sell history with today's stock codes:\")\n",
    "print (df_buy_sell[df_buy_sell.code.isin(df_buy_sell[df_buy_sell.date == date]['code'])])\n",
    "print (\"code which have buy&sell history:\")\n",
    "print (df_buy_sell)\n",
    "\n",
    "print (\"END: today\")\n",
    "print (\"------------------------------\")\n",
    "\n",
    "print (\"my stocks:\")\n",
    "print (df[df.code.isin(stocks)].sort_values(['code', 'date','type_pct'], ascending=[True, True, False]))\n",
    "\n",
    "print (\"Warning!!!\")\n",
    "print (df_sell[df_sell.code.isin(stocks)])\n",
    "\n",
    "print (\"Congrats!!!\")\n",
    "print (df_buy[df_buy.code.isin(stocks)])\n",
    "\n",
    "\n",
    "# print ('tail 20:')\n",
    "# print (df.tail(20))\n",
    "\n",
    "# print ('buy&sell code >=2:')\n",
    "# _df = df.groupby(['code', 'type']).agg('size')\n",
    "# df_buy_sell = df[df.code.isin(_df.unstack().dropna().index)].sort_values(['code', 'date', 'type_pct'], ascending=[True, True, False])\n",
    "# print (df_buy_sell)\n",
    "\n",
    "print (df_buy_sell[df_buy_sell.code.isin(df_buy_sell[df_buy_sell.date == \"2018-03-30\"]['code'])])\n",
    "print ('buy code >2:')\n",
    "is_df_buy_2more = df_buy.code.value_counts() > 2\n",
    "df_buy_2more = df_buy[df_buy.code.isin(is_df_buy_2more[is_df_buy_2more == True].index)].sort_values(['code', 'date', 'type_pct'], ascending=[True, True, False])\n",
    "print (df_buy_2more)\n",
    "\n",
    "\n",
    "print ('buy code ==2:')\n",
    "df_2 = df_buy.code.value_counts() == 2\n",
    "print (df_buy[df_buy.code.isin(df_2[df_2 == True].index)].sort_values(['code', 'date', 'type_pct'], ascending=[True, True, False]))\n",
    "\n",
    "print ('buy code ==1:')\n",
    "df_1 = df_buy.code.value_counts() == 1\n",
    "print (df_buy[df_buy.code.isin(df_1[df_1 == True].index)].sort_values(['type_pct', 'total_vol_type_amount', 'amount_pct'], ascending=[False,  False, False]))\n",
    "print ('buy code head 12:')\n",
    "print (df_buy[df_buy.code.isin(df_buy.code.value_counts().head(12).index)].sort_values('code'))\n",
    "\n",
    "print('buy amount_pct:')\n",
    "print (df_buy.sort_values(by=['amount_pct'], ascending=False))\n",
    "\n",
    "print ('amount mean:')\n",
    "print (df_raw.sort_values(['amount_mean'], ascending=False))\n",
    "\n",
    "\n",
    "\n",
    "print(df[df.code.isin([\"603758\"])])\n",
    "print(df[df.code.isin([\"603767\"])])\n",
    "print(df[df.code.isin([\"600023\"])])"
   ]
  },
  {
   "cell_type": "code",
   "execution_count": null,
   "metadata": {},
   "outputs": [],
   "source": [
    "df_trans = df[['time', 'price', 'volume', 'amount', 'type']]\n",
    "df_trans = df_trans.dropna()\n",
    "df_trans.head()\n"
   ]
  },
  {
   "cell_type": "code",
   "execution_count": null,
   "metadata": {},
   "outputs": [],
   "source": [
    "df_trans = df_trans[df_trans['volume'] > 0]\n",
    "df_trans.time = \"2018-03-05 \" + df_trans.time\n",
    "df_trans.head()"
   ]
  },
  {
   "cell_type": "code",
   "execution_count": null,
   "metadata": {},
   "outputs": [],
   "source": [
    "df_trans.dtypes"
   ]
  },
  {
   "cell_type": "code",
   "execution_count": null,
   "metadata": {},
   "outputs": [],
   "source": [
    "df_trans.shape"
   ]
  },
  {
   "cell_type": "code",
   "execution_count": null,
   "metadata": {},
   "outputs": [],
   "source": [
    "df_trans.describe()"
   ]
  },
  {
   "cell_type": "code",
   "execution_count": null,
   "metadata": {},
   "outputs": [],
   "source": [
    "df_trans.type.value_counts(normalize=True)"
   ]
  },
  {
   "cell_type": "code",
   "execution_count": null,
   "metadata": {},
   "outputs": [],
   "source": [
    "volume_count_max5 = df_trans.volume.value_counts().head(5)\n",
    "volume_count_max5"
   ]
  },
  {
   "cell_type": "code",
   "execution_count": null,
   "metadata": {},
   "outputs": [],
   "source": [
    "df_trans[df_trans.volume.isin(volume_count_max5.index)]"
   ]
  },
  {
   "cell_type": "code",
   "execution_count": null,
   "metadata": {},
   "outputs": [],
   "source": [
    "df_trans.groupby(['price', 'volume']).agg(['count'])"
   ]
  },
  {
   "cell_type": "code",
   "execution_count": null,
   "metadata": {},
   "outputs": [],
   "source": [
    "volume_count_max5.index[0]\n",
    "df_max1 = df_trans[df_trans.volume.isin([volume_count_max5.index[0]])]\n",
    "df_max1.info()"
   ]
  },
  {
   "cell_type": "code",
   "execution_count": null,
   "metadata": {},
   "outputs": [],
   "source": [
    "df_max1.time = pd.to_datetime(df_max1.time)\n",
    "df_max1.head()"
   ]
  },
  {
   "cell_type": "code",
   "execution_count": null,
   "metadata": {},
   "outputs": [],
   "source": [
    "df_max1_time_index = df_max1.set_index('time')\n",
    "df_max1_time_index\n"
   ]
  },
  {
   "cell_type": "code",
   "execution_count": null,
   "metadata": {},
   "outputs": [],
   "source": [
    "df_count = df_max1_time_index.to_period('T').index.value_counts().rename('mins_count').to_frame()\n",
    "print (df_count.head())\n",
    "df_count_new = df_count[df_count.mins_count > 3].sort_index()\n",
    "df_count_new.mins_count.count() > 10"
   ]
  },
  {
   "cell_type": "code",
   "execution_count": null,
   "metadata": {},
   "outputs": [],
   "source": [
    "import tushare as ts\n",
    "import pandas as pd\n",
    "import numpy as np\n",
    "import matplotlib.pyplot as plt\n",
    "\n",
    "df = pd.read_csv(\"hello.csv\")\n",
    "df.head()\n",
    "df_replaced = df.replace('买盘', 'buy').replace('卖盘', 'sell')\n",
    "df_replaced.head()"
   ]
  },
  {
   "cell_type": "code",
   "execution_count": null,
   "metadata": {},
   "outputs": [],
   "source": [
    "import tushare as ts\n",
    "import pandas as pd\n",
    "import numpy as np\n",
    "import matplotlib.pyplot as plt\n",
    "\n",
    "stocks = [\n",
    "    '601006',\n",
    "    '600919',\n",
    "    '601328',\n",
    "    '000060',\n",
    "    '600027',\n",
    "    '600115',\n",
    "    '603260'\n",
    "]\n",
    "\n",
    "df_raw = pd.read_csv(\"stock/data/trading/history/day/tracking_trading_day.csv\")\n",
    "\n",
    "# df = df_raw.drop(['10m_detail', '20m_detail'], axis=1)\n",
    "df = df_raw\n",
    "df.sort_values(by=['total_vol_type_amount'], ascending=False)\n",
    "df_buy = df[df['type'] == 'buy']\n",
    "df_sell = df[df['type'] == 'sell']\n",
    "# print ('amount_pct:')\n",
    "# print (df.sort_values(by=['amount_pct'], ascending=False))\n",
    "# print ('code:')\n",
    "# print (df.sort_values('code'))\n",
    "print ('tail 20:')\n",
    "print (df.tail(20))\n",
    "print ('buy code >2:')\n",
    "df_2more = df_buy.code.value_counts() > 2\n",
    "print (df_buy[df_buy.code.isin(df_2more[df_2more == True].index)].sort_values(['code', 'type_pct'], ascending=[True,  False]))\n",
    "\n",
    "print ('buy code ==2:')\n",
    "df_2 = df_buy.code.value_counts() == 2\n",
    "print (df_buy[df_buy.code.isin(df_2[df_2 == True].index)].sort_values(['code', 'type_pct']))\n",
    "\n",
    "print ('buy code ==1:')\n",
    "df_1 = df_buy.code.value_counts() == 1\n",
    "print (df_buy[df_buy.code.isin(df_1[df_1 == True].index)].sort_values(['code', 'type_pct']))\n",
    "# print (df_buy.sort_values('code'))\n",
    "# print (df_buy.code.value_counts().head(12).index)\n",
    "print ('buy code head 12:')\n",
    "print (df_buy[df_buy.code.isin(df_buy.code.value_counts().head(12).index)].sort_values('code'))\n",
    "\n",
    "# print ('sell code:')\n",
    "# print (df_sell.sort_values('code'))\n",
    "print('buy amount_pct:')\n",
    "print (df_buy.sort_values(by=['amount_pct'], ascending=False))\n",
    "\n",
    "# buy_group = df_buy.groupby('code')\n",
    "# for x in buy_group:\n",
    "#     print (x)\n",
    "    \n",
    "# sell_group = df_sell.groupby('code')\n",
    "\n",
    "\n",
    "\n",
    "print (\"Warning!!!\")\n",
    "print (df_sell[df_sell.code.isin(stocks)])\n",
    "\n"
   ]
  },
  {
   "cell_type": "code",
   "execution_count": null,
   "metadata": {},
   "outputs": [],
   "source": [
    "df_trans.amount.sum()\n"
   ]
  }
 ],
 "metadata": {
  "kernelspec": {
   "display_name": "Python 3",
   "language": "python",
   "name": "python3"
  },
  "language_info": {
   "codemirror_mode": {
    "name": "ipython",
    "version": 3
   },
   "file_extension": ".py",
   "mimetype": "text/x-python",
   "name": "python",
   "nbconvert_exporter": "python",
   "pygments_lexer": "ipython3",
   "version": "3.5.2"
  }
 },
 "nbformat": 4,
 "nbformat_minor": 2
}
