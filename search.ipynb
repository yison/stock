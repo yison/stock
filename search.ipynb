{
 "cells": [
  {
   "cell_type": "code",
   "execution_count": 102,
   "metadata": {},
   "outputs": [
    {
     "name": "stdout",
     "output_type": "stream",
     "text": [
      "N: 5\n",
      "total: 2282\n",
      "count: 575\n",
      "count/total: 0.25197195442594217\n",
      "             \n",
      "N: 6\n",
      "total: 2282\n",
      "count: 650\n",
      "count/total: 0.2848378615249781\n",
      "             \n",
      "N: 7\n",
      "total: 2280\n",
      "count: 658\n",
      "count/total: 0.2885964912280702\n",
      "             \n",
      "N: 8\n",
      "total: 2279\n",
      "count: 641\n",
      "count/total: 0.2812637121544537\n",
      "             \n",
      "N: 9\n",
      "total: 2279\n",
      "count: 654\n",
      "count/total: 0.28696796840719613\n",
      "             \n"
     ]
    }
   ],
   "source": [
    "import pandas as pd\n",
    "import numpy as np\n",
    "import os\n",
    "from os import listdir\n",
    "from os.path import join, isfile\n",
    "\n",
    "root_path = os.getcwd()\n",
    "to_csv_path = \"data/quant/day\"\n",
    "hist_day_path = join(root_path, to_csv_path)\n",
    "day_stock_file_list = [ join(hist_day_path,f) for f in listdir(hist_day_path) if isfile(join(hist_day_path, f)) ]\n",
    "#print (day_stock_file_list)\n",
    "\n",
    "for N in range(5, 10):\n",
    "    total=0\n",
    "    count=0\n",
    "    for file in day_stock_file_list:\n",
    "        df = pd.read_csv(file)\n",
    "        df_date_idx = df.set_index('date')\n",
    "\n",
    "        date_list = df[1 == df.close_upper_limit]['date']\n",
    "        #print (date_list)\n",
    "        #N=5\n",
    "\n",
    "        for date in date_list:\n",
    "            start = df_date_idx.index.searchsorted(date)\n",
    "            if (start + N < df_date_idx.shape[0]):\n",
    "                _df = (df_date_idx.iloc[start:start+N+1])\n",
    "\n",
    "                df_diff = _df.diff().dropna()\n",
    "                #print(_df.iloc[0])\n",
    "\n",
    "                if (df_diff.iloc[0]['open'] > 0 and \n",
    "                   df_diff.iloc[0]['high'] > 0 and\n",
    "                   df_diff.iloc[0]['close'] < 0 and\n",
    "                   df_diff.iloc[0]['low'] > 0 and\n",
    "                   df_diff.iloc[0]['volume'] < 0 and\n",
    "                   abs(df_diff.iloc[0]['volume']) / _df.iloc[0]['volume'] < 0.2 and \n",
    "                    _df.iloc[1]['open'] < _df.iloc[0]['close']):\n",
    "                    #print (_df)\n",
    "                    total = total + 1\n",
    "    #                 if (df_diff.iloc[N-1]['close'] > 0):\n",
    "    #                     count = count + 1\n",
    "                    if (_df.iloc[N-1]['close'] > _df.iloc[0]['open']):\n",
    "                        count = count + 1\n",
    "    print (\"N:\", N)\n",
    "    print (\"total:\", total)\n",
    "    print (\"count:\", count)\n",
    "    print (\"count/total:\", count/total)\n",
    "    print (\"             \")\n",
    "                    "
   ]
  }
 ],
 "metadata": {
  "kernelspec": {
   "display_name": "Python 3",
   "language": "python",
   "name": "python3"
  },
  "language_info": {
   "codemirror_mode": {
    "name": "ipython",
    "version": 3
   },
   "file_extension": ".py",
   "mimetype": "text/x-python",
   "name": "python",
   "nbconvert_exporter": "python",
   "pygments_lexer": "ipython3",
   "version": "3.6.8"
  }
 },
 "nbformat": 4,
 "nbformat_minor": 2
}
